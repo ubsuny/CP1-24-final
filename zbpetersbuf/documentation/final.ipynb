{
 "cells": [
  {
   "cell_type": "markdown",
   "metadata": {},
   "source": [
    "some stuff"
   ]
  },
  {
   "cell_type": "code",
   "execution_count": 1,
   "metadata": {},
   "outputs": [],
   "source": [
    "\n",
    "import os\n",
    "import math as m\n",
    "import numpy as np\n",
    "import matplotlib.pyplot as plt\n",
    "import pandas as pd\n",
    "import sys\n",
    "sys.path.append('/workspaces/CP1-24-final/zbpetersbuf/code')\n",
    "import workinh as wrk\n",
    "import final as fin"
   ]
  },
  {
   "cell_type": "code",
   "execution_count": 5,
   "metadata": {},
   "outputs": [
    {
     "name": "stderr",
     "output_type": "stream",
     "text": [
      "/home/codespace/.local/lib/python3.12/site-packages/numpy/lib/_function_base_impl.py:654: ComplexWarning: Casting complex values to real discards the imaginary part\n",
      "  a = asarray(a, dtype=dtype, order=order)\n"
     ]
    },
    {
     "ename": "TypeError",
     "evalue": "The number of func parameters=4 must not exceed the number of data points=2",
     "output_type": "error",
     "traceback": [
      "\u001b[0;31m---------------------------------------------------------------------------\u001b[0m",
      "\u001b[0;31mTypeError\u001b[0m                                 Traceback (most recent call last)",
      "Cell \u001b[0;32mIn[5], line 2\u001b[0m\n\u001b[1;32m      1\u001b[0m files \u001b[38;5;241m=\u001b[39m fin\u001b[38;5;241m.\u001b[39mfilenamelister(\u001b[38;5;124m'\u001b[39m\u001b[38;5;124msinewalk\u001b[39m\u001b[38;5;124m'\u001b[39m,\u001b[38;5;124m'\u001b[39m\u001b[38;5;124m.csv\u001b[39m\u001b[38;5;124m'\u001b[39m)\n\u001b[0;32m----> 2\u001b[0m \u001b[43mfin\u001b[49m\u001b[38;5;241;43m.\u001b[39;49m\u001b[43mgoldrule_sig\u001b[49m\u001b[43m(\u001b[49m\u001b[43mfiles\u001b[49m\u001b[43m[\u001b[49m\u001b[38;5;241;43m0\u001b[39;49m\u001b[43m]\u001b[49m\u001b[43m,\u001b[49m\u001b[38;5;241;43m0.3\u001b[39;49m\u001b[43m,\u001b[49m\u001b[38;5;241;43m0.5\u001b[39;49m\u001b[43m)\u001b[49m\n",
      "File \u001b[0;32m/workspaces/CP1-24-final/zbpetersbuf/code/final.py:123\u001b[0m, in \u001b[0;36mgoldrule_sig\u001b[0;34m(datta, adjRsqrd, selec_filter, filt_int_add)\u001b[0m\n\u001b[1;32m    121\u001b[0m \u001b[38;5;28;01mwhile\u001b[39;00m adjRsqrd \u001b[38;5;241m>\u001b[39m adr:\n\u001b[1;32m    122\u001b[0m     ynew \u001b[38;5;241m=\u001b[39m inv_fft(fft)\n\u001b[0;32m--> 123\u001b[0m     fft \u001b[38;5;241m=\u001b[39m \u001b[43mynewfunk\u001b[49m\u001b[43m(\u001b[49m\u001b[43mxax\u001b[49m\u001b[43m,\u001b[49m\u001b[43mynew\u001b[49m\u001b[43m,\u001b[49m\u001b[43m \u001b[49m\u001b[43mselec_filter\u001b[49m\u001b[43m)\u001b[49m\n\u001b[1;32m    124\u001b[0m     adr \u001b[38;5;241m=\u001b[39m adjs_Rsqr(yax,fitsincuve(xax,ynew))\n\u001b[1;32m    125\u001b[0m     selec_filter\u001b[38;5;241m+\u001b[39m\u001b[38;5;241m=\u001b[39mfilt_int_add\n",
      "File \u001b[0;32m/workspaces/CP1-24-final/zbpetersbuf/code/final.py:100\u001b[0m, in \u001b[0;36mynewfunk\u001b[0;34m(xax, yax, selec_filter)\u001b[0m\n\u001b[1;32m     98\u001b[0m n \u001b[38;5;241m=\u001b[39m \u001b[38;5;28mlen\u001b[39m(xax)\n\u001b[1;32m     99\u001b[0m freq \u001b[38;5;241m=\u001b[39m np\u001b[38;5;241m.\u001b[39mfft\u001b[38;5;241m.\u001b[39mfftfreq(n, xax\u001b[38;5;241m/\u001b[39mn)\n\u001b[0;32m--> 100\u001b[0m magnitude \u001b[38;5;241m=\u001b[39m \u001b[43mfitsincuve\u001b[49m\u001b[43m(\u001b[49m\u001b[43mxax\u001b[49m\u001b[43m,\u001b[49m\u001b[43myax\u001b[49m\u001b[43m)\u001b[49m\n\u001b[1;32m    101\u001b[0m threshold \u001b[38;5;241m=\u001b[39m selec_filter \u001b[38;5;241m*\u001b[39m np\u001b[38;5;241m.\u001b[39mmax(magnitude)\n\u001b[1;32m    102\u001b[0m ynew \u001b[38;5;241m=\u001b[39m magnitude[magnitude\u001b[38;5;241m>\u001b[39mthreshold]\n",
      "File \u001b[0;32m/workspaces/CP1-24-final/zbpetersbuf/code/final.py:50\u001b[0m, in \u001b[0;36mfitsincuve\u001b[0;34m(xax, yax)\u001b[0m\n\u001b[1;32m     49\u001b[0m \u001b[38;5;28;01mdef\u001b[39;00m \u001b[38;5;21mfitsincuve\u001b[39m(xax,yax):\n\u001b[0;32m---> 50\u001b[0m     a, b, c, d \u001b[38;5;241m=\u001b[39m \u001b[43mcurve_fit\u001b[49m\u001b[43m(\u001b[49m\u001b[43msinfunk\u001b[49m\u001b[43m,\u001b[49m\u001b[43m \u001b[49m\u001b[43mxax\u001b[49m\u001b[43m,\u001b[49m\u001b[43m \u001b[49m\u001b[43myax\u001b[49m\u001b[43m)\u001b[49m[\u001b[38;5;241m0\u001b[39m]\n\u001b[1;32m     51\u001b[0m     sin_fit \u001b[38;5;241m=\u001b[39m sinfunk(np\u001b[38;5;241m.\u001b[39marray(xax), a, b, c, d)\n\u001b[1;32m     52\u001b[0m     isfft \u001b[38;5;241m=\u001b[39m np\u001b[38;5;241m.\u001b[39mfft\u001b[38;5;241m.\u001b[39mfft(sin_fit)\n",
      "File \u001b[0;32m~/.local/lib/python3.12/site-packages/scipy/optimize/_minpack_py.py:1005\u001b[0m, in \u001b[0;36mcurve_fit\u001b[0;34m(f, xdata, ydata, p0, sigma, absolute_sigma, check_finite, bounds, method, jac, full_output, nan_policy, **kwargs)\u001b[0m\n\u001b[1;32m   1002\u001b[0m \u001b[38;5;28;01mif\u001b[39;00m method \u001b[38;5;241m==\u001b[39m \u001b[38;5;124m'\u001b[39m\u001b[38;5;124mlm\u001b[39m\u001b[38;5;124m'\u001b[39m:\n\u001b[1;32m   1003\u001b[0m     \u001b[38;5;66;03m# if ydata.size == 1, this might be used for broadcast.\u001b[39;00m\n\u001b[1;32m   1004\u001b[0m     \u001b[38;5;28;01mif\u001b[39;00m ydata\u001b[38;5;241m.\u001b[39msize \u001b[38;5;241m!=\u001b[39m \u001b[38;5;241m1\u001b[39m \u001b[38;5;129;01mand\u001b[39;00m n \u001b[38;5;241m>\u001b[39m ydata\u001b[38;5;241m.\u001b[39msize:\n\u001b[0;32m-> 1005\u001b[0m         \u001b[38;5;28;01mraise\u001b[39;00m \u001b[38;5;167;01mTypeError\u001b[39;00m(\u001b[38;5;124mf\u001b[39m\u001b[38;5;124m\"\u001b[39m\u001b[38;5;124mThe number of func parameters=\u001b[39m\u001b[38;5;132;01m{\u001b[39;00mn\u001b[38;5;132;01m}\u001b[39;00m\u001b[38;5;124m must not\u001b[39m\u001b[38;5;124m\"\u001b[39m\n\u001b[1;32m   1006\u001b[0m                         \u001b[38;5;124mf\u001b[39m\u001b[38;5;124m\"\u001b[39m\u001b[38;5;124m exceed the number of data points=\u001b[39m\u001b[38;5;132;01m{\u001b[39;00mydata\u001b[38;5;241m.\u001b[39msize\u001b[38;5;132;01m}\u001b[39;00m\u001b[38;5;124m\"\u001b[39m)\n\u001b[1;32m   1007\u001b[0m     res \u001b[38;5;241m=\u001b[39m leastsq(func, p0, Dfun\u001b[38;5;241m=\u001b[39mjac, full_output\u001b[38;5;241m=\u001b[39m\u001b[38;5;241m1\u001b[39m, \u001b[38;5;241m*\u001b[39m\u001b[38;5;241m*\u001b[39mkwargs)\n\u001b[1;32m   1008\u001b[0m     popt, pcov, infodict, errmsg, ier \u001b[38;5;241m=\u001b[39m res\n",
      "\u001b[0;31mTypeError\u001b[0m: The number of func parameters=4 must not exceed the number of data points=2"
     ]
    }
   ],
   "source": [
    "files = fin.filenamelister('sinewalk','.csv')\n",
    "fin.goldrule_sig(files[0],0.3,0.5)"
   ]
  },
  {
   "cell_type": "code",
   "execution_count": null,
   "metadata": {},
   "outputs": [],
   "source": [
    "plt.figure()\n",
    "vmovx = pd.DataFrame(vel[0])\n",
    "vmovy = pd.DataFrame(vel[1])\n",
    "plt.plot(vmovx,vmovy, color='red')\n",
    "plt.title(u_title)\n",
    "plt.xlabel('xlable')\n",
    "plt.ylabel('ylable')\n",
    "plt.grid()"
   ]
  }
 ],
 "metadata": {
  "kernelspec": {
   "display_name": "Python 3",
   "language": "python",
   "name": "python3"
  },
  "language_info": {
   "codemirror_mode": {
    "name": "ipython",
    "version": 3
   },
   "file_extension": ".py",
   "mimetype": "text/x-python",
   "name": "python",
   "nbconvert_exporter": "python",
   "pygments_lexer": "ipython3",
   "version": "3.12.1"
  }
 },
 "nbformat": 4,
 "nbformat_minor": 2
}
