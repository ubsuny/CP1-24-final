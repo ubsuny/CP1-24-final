{
 "cells": [
  {
   "cell_type": "markdown",
   "metadata": {},
   "source": [
    "some stuff"
   ]
  },
  {
   "cell_type": "code",
   "execution_count": 18,
   "metadata": {},
   "outputs": [],
   "source": [
    "\n",
    "import os\n",
    "import math as m\n",
    "import numpy as np\n",
    "import matplotlib.pyplot as plt\n",
    "import pandas as pd\n",
    "import sys\n",
    "sys.path.append('/workspaces/CP1-24-final/zbpetersbuf/code')\n",
    "import workinh as wrk\n",
    "import final as fin"
   ]
  },
  {
   "cell_type": "code",
   "execution_count": 19,
   "metadata": {},
   "outputs": [
    {
     "data": {
      "text/plain": [
       "['/workspaces/CP1-24-final/zbpetersbuf/data/LL30_8_sinewalk.md',\n",
       " '/workspaces/CP1-24-final/zbpetersbuf/data/LL38_12_sinewalk.md',\n",
       " '/workspaces/CP1-24-final/zbpetersbuf/data/LL46_16_sinewalk.md',\n",
       " '/workspaces/CP1-24-final/zbpetersbuf/data/LL50_18_sinewalk.md',\n",
       " '/workspaces/CP1-24-final/zbpetersbuf/data/LL44_15_sinewalk.md',\n",
       " '/workspaces/CP1-24-final/zbpetersbuf/data/LL18_2_sinewalk.md',\n",
       " '/workspaces/CP1-24-final/zbpetersbuf/data/LL32_9_sinewalk.md',\n",
       " '/workspaces/CP1-24-final/zbpetersbuf/data/LL36_11_sinewalk.md',\n",
       " '/workspaces/CP1-24-final/zbpetersbuf/data/LL24_5_sinewalk.md',\n",
       " '/workspaces/CP1-24-final/zbpetersbuf/data/LL52_19_sinewalk.md',\n",
       " '/workspaces/CP1-24-final/zbpetersbuf/data/LL40_13_sinewalk.md',\n",
       " '/workspaces/CP1-24-final/zbpetersbuf/data/LL16_1_sinewalk.md',\n",
       " '/workspaces/CP1-24-final/zbpetersbuf/data/LL26_6_sinewalk.md',\n",
       " '/workspaces/CP1-24-final/zbpetersbuf/data/LL13_sinewalktest.md',\n",
       " '/workspaces/CP1-24-final/zbpetersbuf/data/LL28_7_sinewalk.md',\n",
       " '/workspaces/CP1-24-final/zbpetersbuf/data/LL22_4_sinewalk.md',\n",
       " '/workspaces/CP1-24-final/zbpetersbuf/data/LL34_10_sinewalk.md',\n",
       " '/workspaces/CP1-24-final/zbpetersbuf/data/LL42_14_sinewalk.md',\n",
       " '/workspaces/CP1-24-final/zbpetersbuf/data/LL48_17_sinewalk.md',\n",
       " '/workspaces/CP1-24-final/zbpetersbuf/data/LL54_20_sinewalk.md',\n",
       " '/workspaces/CP1-24-final/zbpetersbuf/data/LL20_3_sinewalk.md']"
      ]
     },
     "execution_count": 19,
     "metadata": {},
     "output_type": "execute_result"
    }
   ],
   "source": [
    "fin.filenamelister('sinewalk')\n",
    "#fin.goldrule_sig()"
   ]
  },
  {
   "cell_type": "code",
   "execution_count": null,
   "metadata": {},
   "outputs": [],
   "source": [
    "plt.figure()\n",
    "vmovx = pd.DataFrame(vel[0])\n",
    "vmovy = pd.DataFrame(vel[1])\n",
    "plt.plot(vmovx,vmovy, color='red')\n",
    "plt.title(u_title)\n",
    "plt.xlabel('xlable')\n",
    "plt.ylabel('ylable')\n",
    "plt.grid()"
   ]
  }
 ],
 "metadata": {
  "kernelspec": {
   "display_name": "Python 3",
   "language": "python",
   "name": "python3"
  },
  "language_info": {
   "codemirror_mode": {
    "name": "ipython",
    "version": 3
   },
   "file_extension": ".py",
   "mimetype": "text/x-python",
   "name": "python",
   "nbconvert_exporter": "python",
   "pygments_lexer": "ipython3",
   "version": "3.12.1"
  }
 },
 "nbformat": 4,
 "nbformat_minor": 2
}
