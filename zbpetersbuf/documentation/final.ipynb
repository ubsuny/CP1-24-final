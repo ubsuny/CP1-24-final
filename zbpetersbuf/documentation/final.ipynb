{
 "cells": [
  {
   "cell_type": "markdown",
   "metadata": {},
   "source": [
    "some stuff"
   ]
  },
  {
   "cell_type": "code",
   "execution_count": 10,
   "metadata": {},
   "outputs": [],
   "source": [
    "\n",
    "import os\n",
    "import math as m\n",
    "import numpy as np\n",
    "import matplotlib.pyplot as plt\n",
    "import pandas as pd\n",
    "import sys\n",
    "sys.path.append('/workspaces/CP1-24-final/zbpetersbuf/code')\n",
    "import workinh as wrk\n",
    "import final as fin"
   ]
  },
  {
   "cell_type": "code",
   "execution_count": 11,
   "metadata": {},
   "outputs": [
    {
     "ename": "AttributeError",
     "evalue": "'str' object has no attribute 'loc'",
     "output_type": "error",
     "traceback": [
      "\u001b[0;31m---------------------------------------------------------------------------\u001b[0m",
      "\u001b[0;31mAttributeError\u001b[0m                            Traceback (most recent call last)",
      "Cell \u001b[0;32mIn[11], line 2\u001b[0m\n\u001b[1;32m      1\u001b[0m files \u001b[38;5;241m=\u001b[39m fin\u001b[38;5;241m.\u001b[39mfilenamelister(\u001b[38;5;124m'\u001b[39m\u001b[38;5;124msinewalk\u001b[39m\u001b[38;5;124m'\u001b[39m,\u001b[38;5;124m'\u001b[39m\u001b[38;5;124m.csv\u001b[39m\u001b[38;5;124m'\u001b[39m)\n\u001b[0;32m----> 2\u001b[0m \u001b[43mfin\u001b[49m\u001b[38;5;241;43m.\u001b[39;49m\u001b[43mgoldrule_sig\u001b[49m\u001b[43m(\u001b[49m\u001b[43mfiles\u001b[49m\u001b[43m[\u001b[49m\u001b[38;5;241;43m1\u001b[39;49m\u001b[43m]\u001b[49m\u001b[43m)\u001b[49m\n",
      "File \u001b[0;32m/workspaces/CP1-24-final/zbpetersbuf/code/final.py:111\u001b[0m, in \u001b[0;36mgoldrule_sig\u001b[0;34m(datta, adjRsqrd, selec_filter, filt_int_add)\u001b[0m\n\u001b[1;32m    109\u001b[0m \u001b[38;5;28;01mdef\u001b[39;00m \u001b[38;5;21mgoldrule_sig\u001b[39m(datta, adjRsqrd\u001b[38;5;241m=\u001b[39m\u001b[38;5;241m0.8\u001b[39m, selec_filter\u001b[38;5;241m=\u001b[39m\u001b[38;5;241m0.001\u001b[39m, filt_int_add\u001b[38;5;241m=\u001b[39m\u001b[38;5;241m0.01\u001b[39m):\n\u001b[1;32m    110\u001b[0m \u001b[38;5;250m    \u001b[39m\u001b[38;5;124;03m\"\"\"This outpust the new y axis witch is the sdame asthe fft \"\"\"\u001b[39;00m\n\u001b[0;32m--> 111\u001b[0m     xax \u001b[38;5;241m=\u001b[39m \u001b[43mstepnumb\u001b[49m\u001b[43m(\u001b[49m\u001b[43mdatta\u001b[49m\u001b[43m)\u001b[49m[\u001b[38;5;241m0\u001b[39m]\n\u001b[1;32m    112\u001b[0m     yax \u001b[38;5;241m=\u001b[39m stepnumb(datta)[\u001b[38;5;241m1\u001b[39m]\n\u001b[1;32m    113\u001b[0m     adr \u001b[38;5;241m=\u001b[39m adjs_Rsqr(yax,fitsincuve(xax,yax))\n",
      "File \u001b[0;32m/workspaces/CP1-24-final/zbpetersbuf/code/final.py:58\u001b[0m, in \u001b[0;36mstepnumb\u001b[0;34m(datta)\u001b[0m\n\u001b[1;32m     56\u001b[0m \u001b[38;5;28;01mdef\u001b[39;00m \u001b[38;5;21mstepnumb\u001b[39m(datta):\n\u001b[1;32m     57\u001b[0m \u001b[38;5;250m    \u001b[39m\u001b[38;5;124;03m\"\"\"this just shortens the length of the data to the closest 2^n\"\"\"\u001b[39;00m\n\u001b[0;32m---> 58\u001b[0m     tim \u001b[38;5;241m=\u001b[39m \u001b[38;5;28mzip\u001b[39m(\u001b[43mdatta\u001b[49m\u001b[38;5;241;43m.\u001b[39;49m\u001b[43mloc\u001b[49m[:, \u001b[38;5;124m'\u001b[39m\u001b[38;5;124mTime (s)\u001b[39m\u001b[38;5;124m'\u001b[39m])\n\u001b[1;32m     59\u001b[0m     xax, yax \u001b[38;5;241m=\u001b[39m wrk\u001b[38;5;241m.\u001b[39mgpsloc(datta)\n\u001b[1;32m     60\u001b[0m     compare \u001b[38;5;241m=\u001b[39m [\u001b[38;5;28mlen\u001b[39m(tim), \u001b[38;5;28mlen\u001b[39m(xax), \u001b[38;5;28mlen\u001b[39m(yax)]\n",
      "\u001b[0;31mAttributeError\u001b[0m: 'str' object has no attribute 'loc'"
     ]
    }
   ],
   "source": [
    "files = fin.filenamelister('sinewalk','.csv')\n",
    "fin.goldrule_sig(files[1])"
   ]
  },
  {
   "cell_type": "code",
   "execution_count": null,
   "metadata": {},
   "outputs": [],
   "source": [
    "plt.figure()\n",
    "vmovx = pd.DataFrame(vel[0])\n",
    "vmovy = pd.DataFrame(vel[1])\n",
    "plt.plot(vmovx,vmovy, color='red')\n",
    "plt.title(u_title)\n",
    "plt.xlabel('xlable')\n",
    "plt.ylabel('ylable')\n",
    "plt.grid()"
   ]
  }
 ],
 "metadata": {
  "kernelspec": {
   "display_name": "Python 3",
   "language": "python",
   "name": "python3"
  },
  "language_info": {
   "codemirror_mode": {
    "name": "ipython",
    "version": 3
   },
   "file_extension": ".py",
   "mimetype": "text/x-python",
   "name": "python",
   "nbconvert_exporter": "python",
   "pygments_lexer": "ipython3",
   "version": "3.12.1"
  }
 },
 "nbformat": 4,
 "nbformat_minor": 2
}
