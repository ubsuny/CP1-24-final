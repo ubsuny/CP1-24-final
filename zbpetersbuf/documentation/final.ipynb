{
 "cells": [
  {
   "cell_type": "markdown",
   "metadata": {},
   "source": [
    "some stuff"
   ]
  },
  {
   "cell_type": "code",
   "execution_count": 54,
   "metadata": {},
   "outputs": [],
   "source": [
    "\n",
    "import os\n",
    "import math as m\n",
    "import numpy as np\n",
    "import matplotlib.pyplot as plt\n",
    "import pandas as pd\n",
    "import sys\n",
    "sys.path.append('/workspaces/CP1-24-final/zbpetersbuf/code')\n",
    "import final as fin"
   ]
  },
  {
   "cell_type": "code",
   "execution_count": 128,
   "metadata": {},
   "outputs": [
    {
     "data": {
      "text/plain": [
       "Traceback (most recent call last):\n",
       "  File \"/home/codespace/.vscode-remote/extensions/ms-python.python-2024.22.0-linux-x64/python_files/python_server.py\", line 133, in exec_user_input\n",
       "    retval = callable_(user_input, user_globals)\n",
       "             ^^^^^^^^^^^^^^^^^^^^^^^^^^^^^^^^^^^\n",
       "  File \"<string>\", line 2, in <module>\n",
       "ModuleNotFoundError: No module named 'final'\n",
       "\n"
      ]
     },
     "metadata": {},
     "output_type": "display_data"
    }
   ],
   "source": [
    "import importlib\n",
    "import final\n",
    "importlib.reload(final) "
   ]
  },
  {
   "cell_type": "code",
   "execution_count": 129,
   "metadata": {},
   "outputs": [
    {
     "data": {
      "text/plain": [
       "[906442.26763989 906444.42252286 906446.63555946 906448.94435563\n",
       " 906450.83641713 906452.48900061 906454.00561344 906455.45996552\n",
       " 906456.68870239 906457.42517211 906457.84362367 906457.36499729\n",
       " 906456.92447208 906456.56006204 906456.87026511 906458.01990202\n",
       " 906459.63596103 906460.63396628 906461.60497097 906462.66260029\n",
       " 906463.87023327 906465.3371034  906465.72811384 906466.37120105\n",
       " 906465.74817473 906465.28901082 906464.47914445 906464.09626263\n",
       " 906464.66287981 906466.34356051 906468.69403538 906469.55494951] [2.735347   0.43379978 1.69126656 4.5186637  5.74039591 6.98618865\n",
       " 6.88016488 7.34070959 5.09907376 4.75713133] 0\n",
       "Traceback (most recent call last):\n",
       "  File \"/home/codespace/.vscode-remote/extensions/ms-python.python-2024.22.0-linux-x64/python_files/python_server.py\", line 133, in exec_user_input\n",
       "    retval = callable_(user_input, user_globals)\n",
       "             ^^^^^^^^^^^^^^^^^^^^^^^^^^^^^^^^^^^\n",
       "  File \"<string>\", line 3, in <module>\n",
       "  File \"/workspaces/CP1-24-final/zbpetersbuf/code/final.py\", line 127, in goldrule_sig\n",
       "    ynewfit = fitsincuve(xax,ynew1,i)\n",
       "              ^^^^^^^^^^^^^^^^^^^^^^^\n",
       "  File \"/workspaces/CP1-24-final/zbpetersbuf/code/final.py\", line 55, in fitsincuve\n",
       "    a, b, c, d = curve_fit(sinfunk, xax, yax)[0]\n",
       "                 ^^^^^^^^^^^^^^^^^^^^^^^^^^^^\n",
       "  File \"/home/codespace/.local/lib/python3.12/site-packages/scipy/optimize/_minpack_py.py\", line 1007, in curve_fit\n",
       "    res = leastsq(func, p0, Dfun=jac, full_output=1, **kwargs)\n",
       "          ^^^^^^^^^^^^^^^^^^^^^^^^^^^^^^^^^^^^^^^^^^^^^^^^^^^^\n",
       "  File \"/home/codespace/.local/lib/python3.12/site-packages/scipy/optimize/_minpack_py.py\", line 426, in leastsq\n",
       "    shape, dtype = _check_func('leastsq', 'func', func, x0, args, n)\n",
       "                   ^^^^^^^^^^^^^^^^^^^^^^^^^^^^^^^^^^^^^^^^^^^^^^^^^\n",
       "  File \"/home/codespace/.local/lib/python3.12/site-packages/scipy/optimize/_minpack_py.py\", line 23, in _check_func\n",
       "    res = atleast_1d(thefunc(*((x0[:numinputs],) + args)))\n",
       "                     ^^^^^^^^^^^^^^^^^^^^^^^^^^^^^^^^^^^^\n",
       "  File \"/home/codespace/.local/lib/python3.12/site-packages/scipy/optimize/_minpack_py.py\", line 524, in _memoized_func\n",
       "    val = f(params)\n",
       "          ^^^^^^^^^\n",
       "  File \"/home/codespace/.local/lib/python3.12/site-packages/scipy/optimize/_minpack_py.py\", line 541, in func_wrapped\n",
       "    return func(xdata, *params) - ydata\n",
       "           ~~~~~~~~~~~~~~~~~~~~~^~~~~~~\n",
       "ValueError: operands could not be broadcast together with shapes (32,) (10,) \n",
       "\n"
      ]
     },
     "metadata": {},
     "output_type": "display_data"
    }
   ],
   "source": [
    "files = fin.filenamelister('sinewalk','.csv')\n",
    "fle = files[6]\n",
    "yn, y, x = fin.goldrule_sig(fle,0.2,0.00001,0.00001)\n"
   ]
  },
  {
   "cell_type": "code",
   "execution_count": 127,
   "metadata": {},
   "outputs": [
    {
     "data": {
      "text/plain": [
       "Traceback (most recent call last):\n",
       "  File \"/home/codespace/.vscode-remote/extensions/ms-python.python-2024.22.0-linux-x64/python_files/python_server.py\", line 133, in exec_user_input\n",
       "    retval = callable_(user_input, user_globals)\n",
       "             ^^^^^^^^^^^^^^^^^^^^^^^^^^^^^^^^^^^\n",
       "  File \"<string>\", line 2, in <module>\n",
       "NameError: name 'x' is not defined\n",
       "\n"
      ]
     },
     "metadata": {},
     "output_type": "display_data"
    }
   ],
   "source": [
    "plt.figure()\n",
    "plt.plot(x,yn, color='red')\n",
    "plt.plot(x,y, color='blue')\n",
    "plt.title('title')\n",
    "plt.xlabel('xlable')\n",
    "plt.ylabel('ylable')\n",
    "plt.grid()"
   ]
  },
  {
   "cell_type": "code",
   "execution_count": 50,
   "metadata": {},
   "outputs": [
    {
     "data": {
      "text/plain": [
       "32"
      ]
     },
     "execution_count": 50,
     "metadata": {},
     "output_type": "execute_result"
    }
   ],
   "source": [
    "45-6-6-1"
   ]
  },
  {
   "cell_type": "code",
   "execution_count": null,
   "metadata": {},
   "outputs": [],
   "source": []
  }
 ],
 "metadata": {
  "kernelspec": {
   "display_name": "Python 3",
   "language": "python",
   "name": "python3"
  },
  "language_info": {
   "codemirror_mode": {
    "name": "ipython",
    "version": 3
   },
   "file_extension": ".py",
   "mimetype": "text/x-python",
   "name": "python",
   "nbconvert_exporter": "python",
   "pygments_lexer": "ipython3",
   "version": "3.12.1"
  }
 },
 "nbformat": 4,
 "nbformat_minor": 2
}
