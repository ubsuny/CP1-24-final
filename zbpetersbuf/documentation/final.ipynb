{
 "cells": [
  {
   "cell_type": "markdown",
   "metadata": {},
   "source": [
    "some stuff"
   ]
  },
  {
   "cell_type": "code",
   "execution_count": 2,
   "metadata": {},
   "outputs": [],
   "source": [
    "\n",
    "import os\n",
    "import math as m\n",
    "import numpy as np\n",
    "import matplotlib.pyplot as plt\n",
    "import pandas as pd\n",
    "import sys\n",
    "sys.path.append('/workspaces/CP1-24-final/zbpetersbuf/code')\n",
    "import workinh as wrk\n",
    "import final as fin"
   ]
  },
  {
   "cell_type": "code",
   "execution_count": 3,
   "metadata": {},
   "outputs": [],
   "source": [
    "files = fin.filenamelister('sinewalk','.csv')\n",
    "#fin.goldrule_sig(files[0],0.3,0.5)"
   ]
  },
  {
   "cell_type": "code",
   "execution_count": null,
   "metadata": {},
   "outputs": [],
   "source": [
    "plt.figure()\n",
    "vmovx = pd.DataFrame(vel[0])\n",
    "vmovy = pd.DataFrame(vel[1])\n",
    "plt.plot(vmovx,vmovy, color='red')\n",
    "plt.title(u_title)\n",
    "plt.xlabel('xlable')\n",
    "plt.ylabel('ylable')\n",
    "plt.grid()"
   ]
  }
 ],
 "metadata": {
  "kernelspec": {
   "display_name": "Python 3",
   "language": "python",
   "name": "python3"
  },
  "language_info": {
   "codemirror_mode": {
    "name": "ipython",
    "version": 3
   },
   "file_extension": ".py",
   "mimetype": "text/x-python",
   "name": "python",
   "nbconvert_exporter": "python",
   "pygments_lexer": "ipython3",
   "version": "3.12.1"
  }
 },
 "nbformat": 4,
 "nbformat_minor": 2
}
